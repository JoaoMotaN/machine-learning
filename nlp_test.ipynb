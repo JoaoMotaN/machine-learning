{
 "cells": [
  {
   "cell_type": "code",
   "execution_count": 25,
   "id": "82bfcfed-980f-4951-b373-05ba17cadc9e",
   "metadata": {},
   "outputs": [],
   "source": [
    "import pandas as pd\n",
    "import string\n",
    "import spacy\n",
    "from spacy.lang.en.stop_words import STOP_WORDS\n",
    "from sklearn.model_selection import train_test_split\n",
    "import re\n",
    "import random\n",
    "import numpy as np"
   ]
  },
  {
   "cell_type": "code",
   "execution_count": 2,
   "id": "59e552ae-0630-457e-bf60-4607daaad94c",
   "metadata": {},
   "outputs": [],
   "source": [
    "dataframe = pd.read_csv('./data/IMDB_Dataset.csv', lineterminator='\\n');\n",
    "middle = len(dataframe) // 4\n",
    "dataframe = dataframe.iloc[:middle]"
   ]
  },
  {
   "cell_type": "code",
   "execution_count": 3,
   "id": "16f505fe-987d-4d3d-b37e-0616f00cd8fc",
   "metadata": {},
   "outputs": [
    {
     "data": {
      "text/html": [
       "<div>\n",
       "<style scoped>\n",
       "    .dataframe tbody tr th:only-of-type {\n",
       "        vertical-align: middle;\n",
       "    }\n",
       "\n",
       "    .dataframe tbody tr th {\n",
       "        vertical-align: top;\n",
       "    }\n",
       "\n",
       "    .dataframe thead th {\n",
       "        text-align: right;\n",
       "    }\n",
       "</style>\n",
       "<table border=\"1\" class=\"dataframe\">\n",
       "  <thead>\n",
       "    <tr style=\"text-align: right;\">\n",
       "      <th></th>\n",
       "      <th>review</th>\n",
       "      <th>sentiment</th>\n",
       "    </tr>\n",
       "  </thead>\n",
       "  <tbody>\n",
       "    <tr>\n",
       "      <th>0</th>\n",
       "      <td>One of the other reviewers has mentioned that ...</td>\n",
       "      <td>positive</td>\n",
       "    </tr>\n",
       "    <tr>\n",
       "      <th>1</th>\n",
       "      <td>A wonderful little production. &lt;br /&gt;&lt;br /&gt;The...</td>\n",
       "      <td>positive</td>\n",
       "    </tr>\n",
       "    <tr>\n",
       "      <th>2</th>\n",
       "      <td>I thought this was a wonderful way to spend ti...</td>\n",
       "      <td>positive</td>\n",
       "    </tr>\n",
       "    <tr>\n",
       "      <th>3</th>\n",
       "      <td>Basically there's a family where a little boy ...</td>\n",
       "      <td>negative</td>\n",
       "    </tr>\n",
       "    <tr>\n",
       "      <th>4</th>\n",
       "      <td>Petter Mattei's \"Love in the Time of Money\" is...</td>\n",
       "      <td>positive</td>\n",
       "    </tr>\n",
       "  </tbody>\n",
       "</table>\n",
       "</div>"
      ],
      "text/plain": [
       "                                              review sentiment\n",
       "0  One of the other reviewers has mentioned that ...  positive\n",
       "1  A wonderful little production. <br /><br />The...  positive\n",
       "2  I thought this was a wonderful way to spend ti...  positive\n",
       "3  Basically there's a family where a little boy ...  negative\n",
       "4  Petter Mattei's \"Love in the Time of Money\" is...  positive"
      ]
     },
     "execution_count": 3,
     "metadata": {},
     "output_type": "execute_result"
    }
   ],
   "source": [
    "dataframe.head()"
   ]
  },
  {
   "cell_type": "code",
   "execution_count": 4,
   "id": "30dcb863-8f01-4fa7-86a0-52f8f4b32638",
   "metadata": {},
   "outputs": [
    {
     "data": {
      "text/plain": [
       "(12500, 2)"
      ]
     },
     "execution_count": 4,
     "metadata": {},
     "output_type": "execute_result"
    }
   ],
   "source": [
    "dataframe.shape"
   ]
  },
  {
   "cell_type": "code",
   "execution_count": 5,
   "id": "938cc5e0-71ec-403e-902a-f8403901a407",
   "metadata": {},
   "outputs": [
    {
     "data": {
      "text/plain": [
       "sentiment\n",
       "negative    6295\n",
       "positive    6205\n",
       "Name: count, dtype: int64"
      ]
     },
     "execution_count": 5,
     "metadata": {},
     "output_type": "execute_result"
    }
   ],
   "source": [
    "dataframe['sentiment'].value_counts()"
   ]
  },
  {
   "cell_type": "code",
   "execution_count": 6,
   "id": "c462a175-f65c-4043-af6e-584c25aaeacf",
   "metadata": {},
   "outputs": [],
   "source": [
    "punctuation = string.punctuation\n",
    "stop_words = STOP_WORDS\n",
    "\n",
    "nlp = spacy.load('en_core_web_sm')"
   ]
  },
  {
   "cell_type": "code",
   "execution_count": 7,
   "id": "18da13be-7d41-4190-87fe-449d8f44bf7f",
   "metadata": {},
   "outputs": [],
   "source": [
    "def text_preprocessing(text: string):\n",
    "    clean_text = re.sub(r'<.*?>', '', text).lower()\n",
    "    document = nlp(clean_text)\n",
    "    words = []\n",
    "\n",
    "    for token in document:\n",
    "        words.append(token.lemma_)\n",
    "\n",
    "    words = [word for word in words if word not in stop_words and word not in punctuation]\n",
    "    words = ' '.join([str(element) for element in words if not element.isdigit()])\n",
    "\n",
    "    return words"
   ]
  },
  {
   "cell_type": "code",
   "execution_count": 8,
   "id": "055cf67b-cec1-4ee3-91a4-3e2ac94bc8e6",
   "metadata": {},
   "outputs": [
    {
     "name": "stdout",
     "output_type": "stream",
     "text": [
      "CPU times: total: 9min 43s\n",
      "Wall time: 9min 52s\n"
     ]
    }
   ],
   "source": [
    "%%time\n",
    "dataframe['review'] = dataframe['review'].apply(text_preprocessing)"
   ]
  },
  {
   "cell_type": "code",
   "execution_count": 9,
   "id": "02359b62-bdc9-40f0-a4a1-39b12002aabe",
   "metadata": {
    "editable": true,
    "slideshow": {
     "slide_type": ""
    },
    "tags": []
   },
   "outputs": [
    {
     "data": {
      "text/html": [
       "<div>\n",
       "<style scoped>\n",
       "    .dataframe tbody tr th:only-of-type {\n",
       "        vertical-align: middle;\n",
       "    }\n",
       "\n",
       "    .dataframe tbody tr th {\n",
       "        vertical-align: top;\n",
       "    }\n",
       "\n",
       "    .dataframe thead th {\n",
       "        text-align: right;\n",
       "    }\n",
       "</style>\n",
       "<table border=\"1\" class=\"dataframe\">\n",
       "  <thead>\n",
       "    <tr style=\"text-align: right;\">\n",
       "      <th></th>\n",
       "      <th>review</th>\n",
       "      <th>sentiment</th>\n",
       "    </tr>\n",
       "  </thead>\n",
       "  <tbody>\n",
       "    <tr>\n",
       "      <th>0</th>\n",
       "      <td>reviewer mention watch oz episode hook right e...</td>\n",
       "      <td>positive</td>\n",
       "    </tr>\n",
       "    <tr>\n",
       "      <th>1</th>\n",
       "      <td>wonderful little production film technique una...</td>\n",
       "      <td>positive</td>\n",
       "    </tr>\n",
       "    <tr>\n",
       "      <th>2</th>\n",
       "      <td>I think wonderful way spend time hot summer we...</td>\n",
       "      <td>positive</td>\n",
       "    </tr>\n",
       "    <tr>\n",
       "      <th>3</th>\n",
       "      <td>basically family little boy jake think zombie ...</td>\n",
       "      <td>negative</td>\n",
       "    </tr>\n",
       "    <tr>\n",
       "      <th>4</th>\n",
       "      <td>petter mattei love time money visually stunnin...</td>\n",
       "      <td>positive</td>\n",
       "    </tr>\n",
       "  </tbody>\n",
       "</table>\n",
       "</div>"
      ],
      "text/plain": [
       "                                              review sentiment\n",
       "0  reviewer mention watch oz episode hook right e...  positive\n",
       "1  wonderful little production film technique una...  positive\n",
       "2  I think wonderful way spend time hot summer we...  positive\n",
       "3  basically family little boy jake think zombie ...  negative\n",
       "4  petter mattei love time money visually stunnin...  positive"
      ]
     },
     "execution_count": 9,
     "metadata": {},
     "output_type": "execute_result"
    }
   ],
   "source": [
    "dataframe.head()"
   ]
  },
  {
   "cell_type": "code",
   "execution_count": 10,
   "id": "d620a6b2-ccd6-4eb8-9d73-354c646ea5ed",
   "metadata": {},
   "outputs": [],
   "source": [
    "final_database = []\n",
    "for review, sentiment in zip(dataframe['review'], dataframe['sentiment']):\n",
    "    if sentiment == 'positive':\n",
    "        dict = ({'cats': {'POSITIVE': True, 'NEGATIVE': False}})\n",
    "    else:\n",
    "        dict = ({'cats': {'POSITIVE': False, 'NEGATIVE': True}})\n",
    "\n",
    "    final_database.append([review, dict.copy()])"
   ]
  },
  {
   "cell_type": "code",
   "execution_count": 11,
   "id": "6946ed63-122b-494c-a05b-947e2eed9cac",
   "metadata": {},
   "outputs": [
    {
     "data": {
      "text/plain": [
       "12500"
      ]
     },
     "execution_count": 11,
     "metadata": {},
     "output_type": "execute_result"
    }
   ],
   "source": [
    "len(final_database)"
   ]
  },
  {
   "cell_type": "code",
   "execution_count": 12,
   "id": "40ebee02-7e6a-46e7-bec5-7777de43bd29",
   "metadata": {},
   "outputs": [
    {
     "data": {
      "text/plain": [
       "['basically family little boy jake think zombie closet parent fight time.this movie slow soap opera ... suddenly jake decide rambo kill zombie.ok film decide thriller drama drama movie watchable parent divorce argue like real life jake closet totally ruin film I expect boogeyman similar movie instead I watch drama meaningless thriller spots.3 play parent descent dialog shot jake ignore',\n",
       " {'cats': {'POSITIVE': False, 'NEGATIVE': True}}]"
      ]
     },
     "execution_count": 12,
     "metadata": {},
     "output_type": "execute_result"
    }
   ],
   "source": [
    "final_database[3]"
   ]
  },
  {
   "cell_type": "code",
   "execution_count": 13,
   "id": "be9135bb-de54-44a2-9689-05a4c74529bc",
   "metadata": {},
   "outputs": [
    {
     "data": {
      "text/plain": [
       "('POSITIVE', 'NEGATIVE')"
      ]
     },
     "execution_count": 13,
     "metadata": {},
     "output_type": "execute_result"
    }
   ],
   "source": [
    "model = spacy.blank('en')\n",
    "textcat = model.add_pipe(\"textcat\")\n",
    "textcat.add_label('POSITIVE')\n",
    "textcat.add_label('NEGATIVE')\n",
    "historic = []\n",
    "textcat.labels"
   ]
  },
  {
   "cell_type": "code",
   "execution_count": 14,
   "id": "9c305c4c-b719-4b00-918e-3593a5afbbe4",
   "metadata": {},
   "outputs": [],
   "source": [
    "train_data, test_data = train_test_split(final_database, test_size=0.3)"
   ]
  },
  {
   "cell_type": "code",
   "execution_count": 15,
   "id": "0b48a1f9-c991-49ec-b19b-f4ac2090c3f6",
   "metadata": {},
   "outputs": [
    {
     "data": {
      "text/plain": [
       "8750"
      ]
     },
     "execution_count": 15,
     "metadata": {},
     "output_type": "execute_result"
    }
   ],
   "source": [
    "len(train_data)"
   ]
  },
  {
   "cell_type": "code",
   "execution_count": 16,
   "id": "1fe0f2a2-7a1e-40aa-b527-6a88ca79b0fa",
   "metadata": {},
   "outputs": [
    {
     "data": {
      "text/plain": [
       "3750"
      ]
     },
     "execution_count": 16,
     "metadata": {},
     "output_type": "execute_result"
    }
   ],
   "source": [
    "len(test_data)"
   ]
  },
  {
   "cell_type": "code",
   "execution_count": 17,
   "id": "1f46de30-742f-4f9a-bce2-17d2bc7c7598",
   "metadata": {},
   "outputs": [],
   "source": [
    "processed_train_data = []\n",
    "for text, annotations in train_data:\n",
    "    doc = model.make_doc(text)\n",
    "    example = spacy.training.Example.from_dict(doc, annotations)\n",
    "    processed_train_data.append(example)"
   ]
  },
  {
   "cell_type": "code",
   "execution_count": 18,
   "id": "0acc5f67-8c38-44b4-ab4f-7f09e9f4acd7",
   "metadata": {},
   "outputs": [],
   "source": [
    "historic = []"
   ]
  },
  {
   "cell_type": "code",
   "execution_count": 19,
   "id": "7d50b29e-5d91-4477-b86c-df02de8e3d03",
   "metadata": {},
   "outputs": [
    {
     "name": "stdout",
     "output_type": "stream",
     "text": [
      "{'textcat': 19.25365011394024}\n",
      "{'textcat': 1.145157779174042}\n",
      "{'textcat': 0.46899634574894833}\n",
      "{'textcat': 0.2893492389972181}\n",
      "{'textcat': 0.2521509494112936}\n",
      "{'textcat': 0.21016845577538112}\n",
      "{'textcat': 0.17887443895625998}\n",
      "{'textcat': 0.06666137984022608}\n",
      "{'textcat': 0.10583639194659655}\n",
      "{'textcat': 0.0986342873231178}\n",
      "{'textcat': 0.18770314811964894}\n",
      "{'textcat': 0.13108967613831674}\n",
      "{'textcat': 0.10516629034280278}\n",
      "{'textcat': 0.03099504524359359}\n",
      "{'textcat': 0.07821332373892442}\n",
      "{'textcat': 0.026267350524070365}\n",
      "CPU times: total: 5h 21min 51s\n",
      "Wall time: 5h 34min 28s\n"
     ]
    }
   ],
   "source": [
    "%%time\n",
    "\n",
    "model.begin_training()\n",
    "batch_size = 100\n",
    "\n",
    "for era in range(400):\n",
    "    random.shuffle(processed_train_data)\n",
    "    losses = {}\n",
    "\n",
    "    for batch_start in range(0, len(processed_train_data), batch_size):\n",
    "        batch = processed_train_data[batch_start:batch_start + batch_size]\n",
    "        model.update(batch, drop=0.3, losses=losses)\n",
    "    if era % 25 == 0:\n",
    "        print(losses)\n",
    "        historic.append(losses)"
   ]
  },
  {
   "cell_type": "code",
   "execution_count": 22,
   "id": "42cad600-c100-4c9d-9c9b-4dbeb1f6ffd7",
   "metadata": {},
   "outputs": [],
   "source": [
    "model.to_disk('trained_model')"
   ]
  },
  {
   "cell_type": "code",
   "execution_count": 23,
   "id": "1e7d3b41-e0ee-4a80-8897-1dfec69333da",
   "metadata": {},
   "outputs": [],
   "source": [
    "historic_loss = []\n",
    "for i in historic:\n",
    "    historic_loss.append(i.get('textcat'))"
   ]
  },
  {
   "cell_type": "code",
   "execution_count": 26,
   "id": "8f81513f-b93e-421d-b753-6a5e92510f07",
   "metadata": {},
   "outputs": [],
   "source": [
    "historic_loss = np.array(historic_loss)"
   ]
  },
  {
   "cell_type": "code",
   "execution_count": 27,
   "id": "acf55dab-cf12-4d49-be14-36e015818239",
   "metadata": {},
   "outputs": [
    {
     "data": {
      "text/plain": [
       "array([19.25365011,  1.14515778,  0.46899635,  0.28934924,  0.25215095,\n",
       "        0.21016846,  0.17887444,  0.06666138,  0.10583639,  0.09863429,\n",
       "        0.18770315,  0.13108968,  0.10516629,  0.03099505,  0.07821332,\n",
       "        0.02626735])"
      ]
     },
     "execution_count": 27,
     "metadata": {},
     "output_type": "execute_result"
    }
   ],
   "source": [
    "historic_loss"
   ]
  },
  {
   "cell_type": "code",
   "execution_count": 28,
   "id": "6b03bd55-7ed6-46af-8b53-30e7aad9fef7",
   "metadata": {},
   "outputs": [
    {
     "data": {
      "text/plain": [
       "Text(0, 0.5, 'Taxa de erro')"
      ]
     },
     "execution_count": 28,
     "metadata": {},
     "output_type": "execute_result"
    },
    {
     "data": {
      "image/png": "[encoded data removed]",
      "text/plain": [
       "<Figure size 640x480 with 1 Axes>"
      ]
     },
     "metadata": {},
     "output_type": "display_data"
    }
   ],
   "source": [
    "import matplotlib.pyplot as plt\n",
    "plt.plot(historic_loss)\n",
    "plt.title('Progressão de taxa de erro')\n",
    "plt.xlabel('Épocas')\n",
    "plt.ylabel('Taxa de erro')"
   ]
  },
  {
   "cell_type": "markdown",
   "id": "e3fb2b85-b3c7-4d42-b0ed-ec7a423a7638",
   "metadata": {},
   "source": [
    "## Teste com review negativo"
   ]
  },
  {
   "cell_type": "code",
   "execution_count": 30,
   "id": "81859fb5-14a1-4bbf-bec8-67c61770d226",
   "metadata": {},
   "outputs": [
    {
     "data": {
      "text/plain": [
       "<spacy.lang.en.English at 0x1ab0b17aaa0>"
      ]
     },
     "execution_count": 30,
     "metadata": {},
     "output_type": "execute_result"
    }
   ],
   "source": [
    "loaded_model = spacy.load('trained_model')\n",
    "loaded_model"
   ]
  },
  {
   "cell_type": "code",
   "execution_count": 51,
   "id": "81da8daa-fd94-4cad-bc78-1cd0e14cccc3",
   "metadata": {},
   "outputs": [
    {
     "data": {
      "text/plain": [
       "{'cats': {'POSITIVE': False, 'NEGATIVE': True}}"
      ]
     },
     "execution_count": 51,
     "metadata": {},
     "output_type": "execute_result"
    }
   ],
   "source": [
    "test1 = test_data[0]\n",
    "test1[1]"
   ]
  },
  {
   "cell_type": "code",
   "execution_count": 52,
   "id": "dce5bbc0-72d8-4700-a56c-e001ef2e3780",
   "metadata": {},
   "outputs": [
    {
     "data": {
      "text/plain": [
       "'movie possibly bad movie I entire life plot ridiculous little man crap stupid entire movie unrealistic dumb let face black comedy pointless horrible piece theater joke funny acting horrendous I beg save money worthless piece crap I endure sit little man hour half wish eye bleed I disgusted like think write crap actor talent people hollywood money junk'"
      ]
     },
     "execution_count": 52,
     "metadata": {},
     "output_type": "execute_result"
    }
   ],
   "source": [
    "negative_text = test1[0]\n",
    "negative_text"
   ]
  },
  {
   "cell_type": "code",
   "execution_count": 53,
   "id": "b81b7ee4-af88-4323-8b02-294a09e9db06",
   "metadata": {},
   "outputs": [
    {
     "data": {
      "text/plain": [
       "{'POSITIVE': 9.927480704163827e-08, 'NEGATIVE': 0.9999998807907104}"
      ]
     },
     "execution_count": 53,
     "metadata": {},
     "output_type": "execute_result"
    }
   ],
   "source": [
    "predict = loaded_model(negative_text)\n",
    "predict.cats"
   ]
  },
  {
   "cell_type": "markdown",
   "id": "4801de37-34e1-488d-afa7-4195167768a3",
   "metadata": {},
   "source": [
    "## Teste com review positivo"
   ]
  },
  {
   "cell_type": "code",
   "execution_count": 57,
   "id": "f7ea6f9e-f52b-4719-99f7-4c48bafb29c0",
   "metadata": {},
   "outputs": [
    {
     "data": {
      "text/plain": [
       "\"I think filmographic lineage run like pay attention I look peter yate ex auto racer direct english caper movie robbery thrilling car chase street london alley crowd child play success.a year later yate direct bullet star steve mccool I mean mcqueen feature spectacular car chase san francisco hill dumbfoundingly authentic engine sound include double clutching race cam muffler cylinder engine foot hood supercharge superdupercharged thousand horsepower run tilt lot shot mcqueen gum chew visage scowl concentration try bump car highway passenger vehicle tote shotgun chase stage philip d'antoni bill hopkins drive criminal vehicle.a year later sense good thing bill friedkin direct french connection feature chase commandeered cop car(gene hackman elevated train new york city lot shot hackman cursing face wrestle batter car street chase stage philip d'antoni academy award follow.sense good thing year bring seven feature chase car drive roy scheider lot shot scheider cursing face try bump car drive bill hopkin road criminal car sure carry shotgun tote passenger hill new york city bump sharp elevate car foot pursue car screech corner dash street dozen child play shot scream kid scatter pavement allow car zoom child immediately run street repeat retreat pursuing cop car carry scheider.i witness pursuit high speed street philadelphia criminal cop drive street mile hour come roll stop stop sign red light -- dull stuff compare movie.speaking movie pretty good robbery bullet cool dress neatly new york movie filthy garbage place subway car cover graffiti shoot beat place vacant lot surround crumble brick building disposal dump industrial sized freezers.the acting pretty good roy scheider whippet sleek actor face camera especially richard welsh story engage entirely unfamiliar good film way capture new york city total indifference human depravity nobility funeral limo driver stand collar butt hang mouth kick cold foot utterly bore ritual going film want believe seven elite group untouchable cop stop job bit sell threaten unethical illegal -- beat hell suspect physically damage hospitalize helpless hood -- manage avoid actually character lifelike ambiguous hero villain biblical nature enjoyable previous incarnation\""
      ]
     },
     "execution_count": 57,
     "metadata": {},
     "output_type": "execute_result"
    }
   ],
   "source": [
    "positive_text = test_data[3]\n",
    "positive_text[0]"
   ]
  },
  {
   "cell_type": "code",
   "execution_count": 58,
   "id": "a76eee7b-0c63-4a67-81f5-1223d2fd8daf",
   "metadata": {},
   "outputs": [
    {
     "data": {
      "text/plain": [
       "{'cats': {'POSITIVE': True, 'NEGATIVE': False}}"
      ]
     },
     "execution_count": 58,
     "metadata": {},
     "output_type": "execute_result"
    }
   ],
   "source": [
    "positive_text[1]"
   ]
  },
  {
   "cell_type": "code",
   "execution_count": 59,
   "id": "5294ff89-0321-4ab8-86df-b1a8be80d721",
   "metadata": {},
   "outputs": [
    {
     "data": {
      "text/plain": [
       "{'POSITIVE': 0.9999552965164185, 'NEGATIVE': 4.468801853363402e-05}"
      ]
     },
     "execution_count": 59,
     "metadata": {},
     "output_type": "execute_result"
    }
   ],
   "source": [
    "predict_p = loaded_model(positive_text[0])\n",
    "predict_p.cats"
   ]
  },
  {
   "cell_type": "markdown",
   "id": "55b1f08c-9cb9-4d6c-abe4-5385ce1d7ea0",
   "metadata": {},
   "source": [
    "## Avaliação do modelo"
   ]
  },
  {
   "cell_type": "code",
   "execution_count": 81,
   "id": "ffd1e75e-04fe-4ee9-9895-4e0b2f097181",
   "metadata": {},
   "outputs": [],
   "source": [
    "test_predicts = []\n",
    "for text, sentiment in test_data:\n",
    "    predict = loaded_model(text)\n",
    "    test_predicts.append(predict.cats)"
   ]
  },
  {
   "cell_type": "code",
   "execution_count": 87,
   "id": "d4193fda-ffd1-4073-803a-f56d0de122c0",
   "metadata": {},
   "outputs": [],
   "source": [
    "feeling_answer = []\n",
    "for text, sentiment in test_data:\n",
    "    if sentiment['cats']['POSITIVE'] > sentiment['cats']['NEGATIVE']:\n",
    "        feeling_answer.append('positive')\n",
    "    else:\n",
    "        feeling_answer.append('negative')"
   ]
  },
  {
   "cell_type": "code",
   "execution_count": 88,
   "id": "e305922e-39bd-4586-b2f8-45f0d0727435",
   "metadata": {},
   "outputs": [],
   "source": [
    "test_predicts_sentiments = []\n",
    "for sentiment in test_predicts:\n",
    "    if sentiment['POSITIVE'] > sentiment['NEGATIVE']:\n",
    "        test_predicts_sentiments.append('positive')\n",
    "    else:\n",
    "        test_predicts_sentiments.append('negative')"
   ]
  },
  {
   "cell_type": "code",
   "execution_count": 89,
   "id": "666ddaa7-380a-472b-89df-91c7e2faef8e",
   "metadata": {},
   "outputs": [
    {
     "data": {
      "text/plain": [
       "0.8250666666666666"
      ]
     },
     "execution_count": 89,
     "metadata": {},
     "output_type": "execute_result"
    }
   ],
   "source": [
    "from sklearn.metrics import confusion_matrix, accuracy_score\n",
    "accuracy_score(feeling_answer, test_predicts_sentiments)"
   ]
  },
  {
   "cell_type": "code",
   "execution_count": 90,
   "id": "1dd97d81-0bc8-4129-883d-eb345b1d8599",
   "metadata": {},
   "outputs": [
    {
     "data": {
      "text/plain": [
       "array([[1691,  225],\n",
       "       [ 431, 1403]], dtype=int64)"
      ]
     },
     "execution_count": 90,
     "metadata": {},
     "output_type": "execute_result"
    }
   ],
   "source": [
    "cm = confusion_matrix(feeling_answer, test_predicts_sentiments)\n",
    "cm"
   ]
  },
  {
   "cell_type": "code",
   "execution_count": null,
   "id": "8527b94f-a5ab-4f04-a708-c154c2628965",
   "metadata": {},
   "outputs": [],
   "source": []
  }
 ],
 "metadata": {
  "kernelspec": {
   "display_name": "Python 3 (ipykernel)",
   "language": "python",
   "name": "python3"
  },
  "language_info": {
   "codemirror_mode": {
    "name": "ipython",
    "version": 3
   },
   "file_extension": ".py",
   "mimetype": "text/x-python",
   "name": "python",
   "nbconvert_exporter": "python",
   "pygments_lexer": "ipython3",
   "version": "3.10.11"
  }
 },
 "nbformat": 4,
 "nbformat_minor": 5
}
